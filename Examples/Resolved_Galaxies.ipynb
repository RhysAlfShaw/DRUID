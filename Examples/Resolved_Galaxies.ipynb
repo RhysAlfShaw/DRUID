{
 "cells": [
  {
   "cell_type": "markdown",
   "metadata": {},
   "source": [
    "# DRUIDs Magic on Galaxies"
   ]
  },
  {
   "cell_type": "markdown",
   "metadata": {},
   "source": [
    "Some of DRUIDs strengths are demonstrated with its ability to handle nested image features. Like the details resovlable in face on galaxies."
   ]
  },
  {
   "cell_type": "markdown",
   "metadata": {},
   "source": [
    "First lets download a nice galaxy."
   ]
  },
  {
   "cell_type": "code",
   "execution_count": null,
   "metadata": {},
   "outputs": [],
   "source": [
    "from astrocut import fits_cut\n",
    "from astropy.coordinates import SkyCoord\n",
    "from astropy import units as u\n",
    "\n",
    "# code to download a nice galaxy image\n",
    "# might take a while to download as the image is 1.5 GB in size. But this will be cashed in the memory\n",
    "PATH_to_data = [\"https://dataportal.eso.org/dataportal_new/file/ADP.2019-02-11T13:02:26.713\"]\n",
    "\n",
    "center_coord = SkyCoord('01:21:20.458 -34:03:48.12', unit=(u.hourangle, u.deg))\n",
    "tout_size = [1000,1000]  # pixels\n",
    "\n",
    "cutout_file = fits_cut(PATH_to_data, center_coord, tout_size, memory_only=True)\n",
    "cutout_file[0].info()\n",
    "image = cutout_file[0][1].data"
   ]
  },
  {
   "cell_type": "code",
   "execution_count": null,
   "metadata": {},
   "outputs": [],
   "source": [
    "from DRUID import sf\n",
    "\n",
    "findmysources = sf(image=image,                             # Image Array\n",
    "                   header=cutout_file[0][1].header,         # Image Header\n",
    "                   mode='optical',                          # Mode (optical, radio, other)\n",
    "                   cutup=False,                             # Cutup the image into smaller pieces?\n",
    "                   smooth_sigma=1.3,                        # Sigma for the smoothing the image with gaussian filter\n",
    "                   area_limit=3)                            # Minimum area for a source to be considered as a source\n",
    "findmysources.set_background(detection_threshold=2,         # Detection threshold for the background\n",
    "                             analysis_threshold=2,          # Analysis threshold for the background\n",
    "                             mode='SEX')                    # Mode (SEX, rms, mad_std, sigma_clip) \n",
    "findmysources.phsf(lifetime_limit=findmysources.local_bg,   # Lifetime limit for the sources (in absolute units)\n",
    "                   lifetime_limit_fraction=1.001)           # Lifetime limit for the sources (as fraction of brith - death)\n",
    "findmysources.source_characterising()                       # Characterise the sources (i.e. measure the properties of the sources and calculate the contours)\n",
    "catalogue = findmysources.catalogue                         # get the catalogue from the sf object\n",
    "\n",
    "from matplotlib.pylab import plt\n",
    "from matplotlib.colors import LogNorm\n",
    "plt.figure(figsize=(10,10))\n",
    "plt.imshow(image, cmap='gray',norm=LogNorm())\n",
    "for con in catalogue['contour']:\n",
    "    plt.plot(con[:, 1], con[:, 0])\n",
    "plt.xlim(200,800)\n",
    "plt.ylim(200,800)\n",
    "plt.savefig('images/sample_gal.png')\n",
    "#plt.show()"
   ]
  },
  {
   "cell_type": "markdown",
   "metadata": {},
   "source": [
    "![image](images/sample_gal.png)"
   ]
  }
 ],
 "metadata": {
  "kernelspec": {
   "display_name": "DRUID",
   "language": "python",
   "name": "python3"
  },
  "language_info": {
   "codemirror_mode": {
    "name": "ipython",
    "version": 3
   },
   "file_extension": ".py",
   "mimetype": "text/x-python",
   "name": "python",
   "nbconvert_exporter": "python",
   "pygments_lexer": "ipython3",
   "version": "3.9.13"
  }
 },
 "nbformat": 4,
 "nbformat_minor": 2
}
